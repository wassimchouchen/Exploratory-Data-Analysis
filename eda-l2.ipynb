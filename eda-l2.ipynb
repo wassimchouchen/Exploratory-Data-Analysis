{
 "cells": [
  {
   "cell_type": "code",
   "execution_count": 1,
   "id": "d34b41b5",
   "metadata": {
    "_cell_guid": "b1076dfc-b9ad-4769-8c92-a6c4dae69d19",
    "_uuid": "8f2839f25d086af736a60e9eeb907d3b93b6e0e5",
    "execution": {
     "iopub.execute_input": "2021-12-31T10:39:22.430504Z",
     "iopub.status.busy": "2021-12-31T10:39:22.422341Z",
     "iopub.status.idle": "2021-12-31T10:39:23.462375Z",
     "shell.execute_reply": "2021-12-31T10:39:23.461261Z",
     "shell.execute_reply.started": "2021-12-13T10:09:47.03962Z"
    },
    "papermill": {
     "duration": 1.0762,
     "end_time": "2021-12-31T10:39:23.462589",
     "exception": false,
     "start_time": "2021-12-31T10:39:22.386389",
     "status": "completed"
    },
    "tags": []
   },
   "outputs": [],
   "source": [
    "import numpy as np \n",
    "import pandas as pd \n",
    "import matplotlib.pyplot as plt\n",
    "import seaborn as sns\n",
    "import matplotlib.style as style"
   ]
  },
  {
   "cell_type": "code",
   "execution_count": 2,
   "id": "9748fca7",
   "metadata": {
    "execution": {
     "iopub.execute_input": "2021-12-31T10:39:23.529814Z",
     "iopub.status.busy": "2021-12-31T10:39:23.528831Z",
     "iopub.status.idle": "2021-12-31T10:39:23.537285Z",
     "shell.execute_reply": "2021-12-31T10:39:23.537789Z",
     "shell.execute_reply.started": "2021-12-13T10:09:48.282945Z"
    },
    "papermill": {
     "duration": 0.041922,
     "end_time": "2021-12-31T10:39:23.537959",
     "exception": false,
     "start_time": "2021-12-31T10:39:23.496037",
     "status": "completed"
    },
    "tags": []
   },
   "outputs": [
    {
     "data": {
      "text/plain": [
       "['Solarize_Light2',\n",
       " '_classic_test_patch',\n",
       " '_mpl-gallery',\n",
       " '_mpl-gallery-nogrid',\n",
       " 'bmh',\n",
       " 'classic',\n",
       " 'dark_background',\n",
       " 'fast',\n",
       " 'fivethirtyeight',\n",
       " 'ggplot',\n",
       " 'grayscale',\n",
       " 'seaborn',\n",
       " 'seaborn-bright',\n",
       " 'seaborn-colorblind',\n",
       " 'seaborn-dark',\n",
       " 'seaborn-dark-palette',\n",
       " 'seaborn-darkgrid',\n",
       " 'seaborn-deep',\n",
       " 'seaborn-muted',\n",
       " 'seaborn-notebook',\n",
       " 'seaborn-paper',\n",
       " 'seaborn-pastel',\n",
       " 'seaborn-poster',\n",
       " 'seaborn-talk',\n",
       " 'seaborn-ticks',\n",
       " 'seaborn-white',\n",
       " 'seaborn-whitegrid',\n",
       " 'tableau-colorblind10']"
      ]
     },
     "execution_count": 2,
     "metadata": {},
     "output_type": "execute_result"
    }
   ],
   "source": [
    "style.available"
   ]
  },
  {
   "cell_type": "code",
   "execution_count": 3,
   "id": "34443fc2",
   "metadata": {
    "execution": {
     "iopub.execute_input": "2021-12-31T10:39:23.601429Z",
     "iopub.status.busy": "2021-12-31T10:39:23.600447Z",
     "iopub.status.idle": "2021-12-31T10:39:24.271968Z",
     "shell.execute_reply": "2021-12-31T10:39:24.271372Z",
     "shell.execute_reply.started": "2021-12-13T10:09:48.294662Z"
    },
    "papermill": {
     "duration": 0.704239,
     "end_time": "2021-12-31T10:39:24.272143",
     "exception": false,
     "start_time": "2021-12-31T10:39:23.567904",
     "status": "completed"
    },
    "tags": []
   },
   "outputs": [],
   "source": [
    "datadev=pd.read_csv(\"../input/deliveries/deliveries.csv\")\n",
    "datamat=pd.read_csv(\"../input/matches/matches.csv\")"
   ]
  },
  {
   "cell_type": "code",
   "execution_count": 4,
   "id": "0ba44282",
   "metadata": {
    "execution": {
     "iopub.execute_input": "2021-12-31T10:39:24.339124Z",
     "iopub.status.busy": "2021-12-31T10:39:24.338479Z",
     "iopub.status.idle": "2021-12-31T10:39:24.369973Z",
     "shell.execute_reply": "2021-12-31T10:39:24.370472Z",
     "shell.execute_reply.started": "2021-12-13T10:09:48.945242Z"
    },
    "papermill": {
     "duration": 0.065094,
     "end_time": "2021-12-31T10:39:24.370693",
     "exception": false,
     "start_time": "2021-12-31T10:39:24.305599",
     "status": "completed"
    },
    "tags": []
   },
   "outputs": [
    {
     "data": {
      "text/html": [
       "<div>\n",
       "<style scoped>\n",
       "    .dataframe tbody tr th:only-of-type {\n",
       "        vertical-align: middle;\n",
       "    }\n",
       "\n",
       "    .dataframe tbody tr th {\n",
       "        vertical-align: top;\n",
       "    }\n",
       "\n",
       "    .dataframe thead th {\n",
       "        text-align: right;\n",
       "    }\n",
       "</style>\n",
       "<table border=\"1\" class=\"dataframe\">\n",
       "  <thead>\n",
       "    <tr style=\"text-align: right;\">\n",
       "      <th></th>\n",
       "      <th>match_id</th>\n",
       "      <th>inning</th>\n",
       "      <th>batting_team</th>\n",
       "      <th>bowling_team</th>\n",
       "      <th>over</th>\n",
       "      <th>ball</th>\n",
       "      <th>batsman</th>\n",
       "      <th>non_striker</th>\n",
       "      <th>bowler</th>\n",
       "      <th>is_super_over</th>\n",
       "      <th>...</th>\n",
       "      <th>bye_runs</th>\n",
       "      <th>legbye_runs</th>\n",
       "      <th>noball_runs</th>\n",
       "      <th>penalty_runs</th>\n",
       "      <th>batsman_runs</th>\n",
       "      <th>extra_runs</th>\n",
       "      <th>total_runs</th>\n",
       "      <th>player_dismissed</th>\n",
       "      <th>dismissal_kind</th>\n",
       "      <th>fielder</th>\n",
       "    </tr>\n",
       "  </thead>\n",
       "  <tbody>\n",
       "    <tr>\n",
       "      <th>0</th>\n",
       "      <td>1</td>\n",
       "      <td>1</td>\n",
       "      <td>Sunrisers Hyderabad</td>\n",
       "      <td>Royal Challengers Bangalore</td>\n",
       "      <td>1</td>\n",
       "      <td>1</td>\n",
       "      <td>DA Warner</td>\n",
       "      <td>S Dhawan</td>\n",
       "      <td>TS Mills</td>\n",
       "      <td>0</td>\n",
       "      <td>...</td>\n",
       "      <td>0</td>\n",
       "      <td>0</td>\n",
       "      <td>0</td>\n",
       "      <td>0</td>\n",
       "      <td>0</td>\n",
       "      <td>0</td>\n",
       "      <td>0</td>\n",
       "      <td>NaN</td>\n",
       "      <td>NaN</td>\n",
       "      <td>NaN</td>\n",
       "    </tr>\n",
       "    <tr>\n",
       "      <th>1</th>\n",
       "      <td>1</td>\n",
       "      <td>1</td>\n",
       "      <td>Sunrisers Hyderabad</td>\n",
       "      <td>Royal Challengers Bangalore</td>\n",
       "      <td>1</td>\n",
       "      <td>2</td>\n",
       "      <td>DA Warner</td>\n",
       "      <td>S Dhawan</td>\n",
       "      <td>TS Mills</td>\n",
       "      <td>0</td>\n",
       "      <td>...</td>\n",
       "      <td>0</td>\n",
       "      <td>0</td>\n",
       "      <td>0</td>\n",
       "      <td>0</td>\n",
       "      <td>0</td>\n",
       "      <td>0</td>\n",
       "      <td>0</td>\n",
       "      <td>NaN</td>\n",
       "      <td>NaN</td>\n",
       "      <td>NaN</td>\n",
       "    </tr>\n",
       "    <tr>\n",
       "      <th>2</th>\n",
       "      <td>1</td>\n",
       "      <td>1</td>\n",
       "      <td>Sunrisers Hyderabad</td>\n",
       "      <td>Royal Challengers Bangalore</td>\n",
       "      <td>1</td>\n",
       "      <td>3</td>\n",
       "      <td>DA Warner</td>\n",
       "      <td>S Dhawan</td>\n",
       "      <td>TS Mills</td>\n",
       "      <td>0</td>\n",
       "      <td>...</td>\n",
       "      <td>0</td>\n",
       "      <td>0</td>\n",
       "      <td>0</td>\n",
       "      <td>0</td>\n",
       "      <td>4</td>\n",
       "      <td>0</td>\n",
       "      <td>4</td>\n",
       "      <td>NaN</td>\n",
       "      <td>NaN</td>\n",
       "      <td>NaN</td>\n",
       "    </tr>\n",
       "    <tr>\n",
       "      <th>3</th>\n",
       "      <td>1</td>\n",
       "      <td>1</td>\n",
       "      <td>Sunrisers Hyderabad</td>\n",
       "      <td>Royal Challengers Bangalore</td>\n",
       "      <td>1</td>\n",
       "      <td>4</td>\n",
       "      <td>DA Warner</td>\n",
       "      <td>S Dhawan</td>\n",
       "      <td>TS Mills</td>\n",
       "      <td>0</td>\n",
       "      <td>...</td>\n",
       "      <td>0</td>\n",
       "      <td>0</td>\n",
       "      <td>0</td>\n",
       "      <td>0</td>\n",
       "      <td>0</td>\n",
       "      <td>0</td>\n",
       "      <td>0</td>\n",
       "      <td>NaN</td>\n",
       "      <td>NaN</td>\n",
       "      <td>NaN</td>\n",
       "    </tr>\n",
       "    <tr>\n",
       "      <th>4</th>\n",
       "      <td>1</td>\n",
       "      <td>1</td>\n",
       "      <td>Sunrisers Hyderabad</td>\n",
       "      <td>Royal Challengers Bangalore</td>\n",
       "      <td>1</td>\n",
       "      <td>5</td>\n",
       "      <td>DA Warner</td>\n",
       "      <td>S Dhawan</td>\n",
       "      <td>TS Mills</td>\n",
       "      <td>0</td>\n",
       "      <td>...</td>\n",
       "      <td>0</td>\n",
       "      <td>0</td>\n",
       "      <td>0</td>\n",
       "      <td>0</td>\n",
       "      <td>0</td>\n",
       "      <td>2</td>\n",
       "      <td>2</td>\n",
       "      <td>NaN</td>\n",
       "      <td>NaN</td>\n",
       "      <td>NaN</td>\n",
       "    </tr>\n",
       "  </tbody>\n",
       "</table>\n",
       "<p>5 rows × 21 columns</p>\n",
       "</div>"
      ],
      "text/plain": [
       "   match_id  inning         batting_team                 bowling_team  over  \\\n",
       "0         1       1  Sunrisers Hyderabad  Royal Challengers Bangalore     1   \n",
       "1         1       1  Sunrisers Hyderabad  Royal Challengers Bangalore     1   \n",
       "2         1       1  Sunrisers Hyderabad  Royal Challengers Bangalore     1   \n",
       "3         1       1  Sunrisers Hyderabad  Royal Challengers Bangalore     1   \n",
       "4         1       1  Sunrisers Hyderabad  Royal Challengers Bangalore     1   \n",
       "\n",
       "   ball    batsman non_striker    bowler  is_super_over  ...  bye_runs  \\\n",
       "0     1  DA Warner    S Dhawan  TS Mills              0  ...         0   \n",
       "1     2  DA Warner    S Dhawan  TS Mills              0  ...         0   \n",
       "2     3  DA Warner    S Dhawan  TS Mills              0  ...         0   \n",
       "3     4  DA Warner    S Dhawan  TS Mills              0  ...         0   \n",
       "4     5  DA Warner    S Dhawan  TS Mills              0  ...         0   \n",
       "\n",
       "   legbye_runs  noball_runs  penalty_runs  batsman_runs  extra_runs  \\\n",
       "0            0            0             0             0           0   \n",
       "1            0            0             0             0           0   \n",
       "2            0            0             0             4           0   \n",
       "3            0            0             0             0           0   \n",
       "4            0            0             0             0           2   \n",
       "\n",
       "   total_runs  player_dismissed dismissal_kind fielder  \n",
       "0           0               NaN            NaN     NaN  \n",
       "1           0               NaN            NaN     NaN  \n",
       "2           4               NaN            NaN     NaN  \n",
       "3           0               NaN            NaN     NaN  \n",
       "4           2               NaN            NaN     NaN  \n",
       "\n",
       "[5 rows x 21 columns]"
      ]
     },
     "execution_count": 4,
     "metadata": {},
     "output_type": "execute_result"
    }
   ],
   "source": [
    " datadev.head()"
   ]
  },
  {
   "cell_type": "code",
   "execution_count": 5,
   "id": "f807f244",
   "metadata": {
    "execution": {
     "iopub.execute_input": "2021-12-31T10:39:24.435840Z",
     "iopub.status.busy": "2021-12-31T10:39:24.435163Z",
     "iopub.status.idle": "2021-12-31T10:39:24.440736Z",
     "shell.execute_reply": "2021-12-31T10:39:24.441300Z",
     "shell.execute_reply.started": "2021-12-13T10:09:48.981811Z"
    },
    "papermill": {
     "duration": 0.040303,
     "end_time": "2021-12-31T10:39:24.441481",
     "exception": false,
     "start_time": "2021-12-31T10:39:24.401178",
     "status": "completed"
    },
    "tags": []
   },
   "outputs": [
    {
     "data": {
      "text/plain": [
       "Index(['match_id', 'inning', 'batting_team', 'bowling_team', 'over', 'ball',\n",
       "       'batsman', 'non_striker', 'bowler', 'is_super_over', 'wide_runs',\n",
       "       'bye_runs', 'legbye_runs', 'noball_runs', 'penalty_runs',\n",
       "       'batsman_runs', 'extra_runs', 'total_runs', 'player_dismissed',\n",
       "       'dismissal_kind', 'fielder'],\n",
       "      dtype='object')"
      ]
     },
     "execution_count": 5,
     "metadata": {},
     "output_type": "execute_result"
    }
   ],
   "source": [
    "datadev.columns"
   ]
  },
  {
   "cell_type": "code",
   "execution_count": 6,
   "id": "0e21d49c",
   "metadata": {
    "execution": {
     "iopub.execute_input": "2021-12-31T10:39:24.506649Z",
     "iopub.status.busy": "2021-12-31T10:39:24.506001Z",
     "iopub.status.idle": "2021-12-31T10:39:24.511521Z",
     "shell.execute_reply": "2021-12-31T10:39:24.512031Z",
     "shell.execute_reply.started": "2021-12-13T10:09:48.988799Z"
    },
    "papermill": {
     "duration": 0.039782,
     "end_time": "2021-12-31T10:39:24.512202",
     "exception": false,
     "start_time": "2021-12-31T10:39:24.472420",
     "status": "completed"
    },
    "tags": []
   },
   "outputs": [
    {
     "data": {
      "text/plain": [
       "Index(['id', 'season', 'city', 'date', 'team1', 'team2', 'toss_winner',\n",
       "       'toss_decision', 'result', 'dl_applied', 'winner', 'win_by_runs',\n",
       "       'win_by_wickets', 'player_of_match', 'venue', 'umpire1', 'umpire2',\n",
       "       'umpire3'],\n",
       "      dtype='object')"
      ]
     },
     "execution_count": 6,
     "metadata": {},
     "output_type": "execute_result"
    }
   ],
   "source": [
    "datamat.columns"
   ]
  },
  {
   "cell_type": "code",
   "execution_count": 7,
   "id": "becc7e24",
   "metadata": {
    "execution": {
     "iopub.execute_input": "2021-12-31T10:39:24.579392Z",
     "iopub.status.busy": "2021-12-31T10:39:24.578723Z",
     "iopub.status.idle": "2021-12-31T10:39:24.598433Z",
     "shell.execute_reply": "2021-12-31T10:39:24.597875Z",
     "shell.execute_reply.started": "2021-12-13T10:09:49.002454Z"
    },
    "papermill": {
     "duration": 0.053722,
     "end_time": "2021-12-31T10:39:24.598604",
     "exception": false,
     "start_time": "2021-12-31T10:39:24.544882",
     "status": "completed"
    },
    "tags": []
   },
   "outputs": [
    {
     "data": {
      "text/html": [
       "<div>\n",
       "<style scoped>\n",
       "    .dataframe tbody tr th:only-of-type {\n",
       "        vertical-align: middle;\n",
       "    }\n",
       "\n",
       "    .dataframe tbody tr th {\n",
       "        vertical-align: top;\n",
       "    }\n",
       "\n",
       "    .dataframe thead th {\n",
       "        text-align: right;\n",
       "    }\n",
       "</style>\n",
       "<table border=\"1\" class=\"dataframe\">\n",
       "  <thead>\n",
       "    <tr style=\"text-align: right;\">\n",
       "      <th></th>\n",
       "      <th>id</th>\n",
       "      <th>season</th>\n",
       "      <th>city</th>\n",
       "      <th>date</th>\n",
       "      <th>team1</th>\n",
       "      <th>team2</th>\n",
       "      <th>toss_winner</th>\n",
       "      <th>toss_decision</th>\n",
       "      <th>result</th>\n",
       "      <th>dl_applied</th>\n",
       "      <th>winner</th>\n",
       "      <th>win_by_runs</th>\n",
       "      <th>win_by_wickets</th>\n",
       "      <th>player_of_match</th>\n",
       "      <th>venue</th>\n",
       "      <th>umpire1</th>\n",
       "      <th>umpire2</th>\n",
       "      <th>umpire3</th>\n",
       "    </tr>\n",
       "  </thead>\n",
       "  <tbody>\n",
       "    <tr>\n",
       "      <th>0</th>\n",
       "      <td>1</td>\n",
       "      <td>2017</td>\n",
       "      <td>Hyderabad</td>\n",
       "      <td>2017-04-05</td>\n",
       "      <td>Sunrisers Hyderabad</td>\n",
       "      <td>Royal Challengers Bangalore</td>\n",
       "      <td>Royal Challengers Bangalore</td>\n",
       "      <td>field</td>\n",
       "      <td>normal</td>\n",
       "      <td>0</td>\n",
       "      <td>Sunrisers Hyderabad</td>\n",
       "      <td>35</td>\n",
       "      <td>0</td>\n",
       "      <td>Yuvraj Singh</td>\n",
       "      <td>Rajiv Gandhi International Stadium, Uppal</td>\n",
       "      <td>AY Dandekar</td>\n",
       "      <td>NJ Llong</td>\n",
       "      <td>NaN</td>\n",
       "    </tr>\n",
       "    <tr>\n",
       "      <th>1</th>\n",
       "      <td>2</td>\n",
       "      <td>2017</td>\n",
       "      <td>Pune</td>\n",
       "      <td>2017-04-06</td>\n",
       "      <td>Mumbai Indians</td>\n",
       "      <td>Rising Pune Supergiant</td>\n",
       "      <td>Rising Pune Supergiant</td>\n",
       "      <td>field</td>\n",
       "      <td>normal</td>\n",
       "      <td>0</td>\n",
       "      <td>Rising Pune Supergiant</td>\n",
       "      <td>0</td>\n",
       "      <td>7</td>\n",
       "      <td>SPD Smith</td>\n",
       "      <td>Maharashtra Cricket Association Stadium</td>\n",
       "      <td>A Nand Kishore</td>\n",
       "      <td>S Ravi</td>\n",
       "      <td>NaN</td>\n",
       "    </tr>\n",
       "    <tr>\n",
       "      <th>2</th>\n",
       "      <td>3</td>\n",
       "      <td>2017</td>\n",
       "      <td>Rajkot</td>\n",
       "      <td>2017-04-07</td>\n",
       "      <td>Gujarat Lions</td>\n",
       "      <td>Kolkata Knight Riders</td>\n",
       "      <td>Kolkata Knight Riders</td>\n",
       "      <td>field</td>\n",
       "      <td>normal</td>\n",
       "      <td>0</td>\n",
       "      <td>Kolkata Knight Riders</td>\n",
       "      <td>0</td>\n",
       "      <td>10</td>\n",
       "      <td>CA Lynn</td>\n",
       "      <td>Saurashtra Cricket Association Stadium</td>\n",
       "      <td>Nitin Menon</td>\n",
       "      <td>CK Nandan</td>\n",
       "      <td>NaN</td>\n",
       "    </tr>\n",
       "    <tr>\n",
       "      <th>3</th>\n",
       "      <td>4</td>\n",
       "      <td>2017</td>\n",
       "      <td>Indore</td>\n",
       "      <td>2017-04-08</td>\n",
       "      <td>Rising Pune Supergiant</td>\n",
       "      <td>Kings XI Punjab</td>\n",
       "      <td>Kings XI Punjab</td>\n",
       "      <td>field</td>\n",
       "      <td>normal</td>\n",
       "      <td>0</td>\n",
       "      <td>Kings XI Punjab</td>\n",
       "      <td>0</td>\n",
       "      <td>6</td>\n",
       "      <td>GJ Maxwell</td>\n",
       "      <td>Holkar Cricket Stadium</td>\n",
       "      <td>AK Chaudhary</td>\n",
       "      <td>C Shamshuddin</td>\n",
       "      <td>NaN</td>\n",
       "    </tr>\n",
       "    <tr>\n",
       "      <th>4</th>\n",
       "      <td>5</td>\n",
       "      <td>2017</td>\n",
       "      <td>Bangalore</td>\n",
       "      <td>2017-04-08</td>\n",
       "      <td>Royal Challengers Bangalore</td>\n",
       "      <td>Delhi Daredevils</td>\n",
       "      <td>Royal Challengers Bangalore</td>\n",
       "      <td>bat</td>\n",
       "      <td>normal</td>\n",
       "      <td>0</td>\n",
       "      <td>Royal Challengers Bangalore</td>\n",
       "      <td>15</td>\n",
       "      <td>0</td>\n",
       "      <td>KM Jadhav</td>\n",
       "      <td>M Chinnaswamy Stadium</td>\n",
       "      <td>NaN</td>\n",
       "      <td>NaN</td>\n",
       "      <td>NaN</td>\n",
       "    </tr>\n",
       "  </tbody>\n",
       "</table>\n",
       "</div>"
      ],
      "text/plain": [
       "   id  season       city        date                        team1  \\\n",
       "0   1    2017  Hyderabad  2017-04-05          Sunrisers Hyderabad   \n",
       "1   2    2017       Pune  2017-04-06               Mumbai Indians   \n",
       "2   3    2017     Rajkot  2017-04-07                Gujarat Lions   \n",
       "3   4    2017     Indore  2017-04-08       Rising Pune Supergiant   \n",
       "4   5    2017  Bangalore  2017-04-08  Royal Challengers Bangalore   \n",
       "\n",
       "                         team2                  toss_winner toss_decision  \\\n",
       "0  Royal Challengers Bangalore  Royal Challengers Bangalore         field   \n",
       "1       Rising Pune Supergiant       Rising Pune Supergiant         field   \n",
       "2        Kolkata Knight Riders        Kolkata Knight Riders         field   \n",
       "3              Kings XI Punjab              Kings XI Punjab         field   \n",
       "4             Delhi Daredevils  Royal Challengers Bangalore           bat   \n",
       "\n",
       "   result  dl_applied                       winner  win_by_runs  \\\n",
       "0  normal           0          Sunrisers Hyderabad           35   \n",
       "1  normal           0       Rising Pune Supergiant            0   \n",
       "2  normal           0        Kolkata Knight Riders            0   \n",
       "3  normal           0              Kings XI Punjab            0   \n",
       "4  normal           0  Royal Challengers Bangalore           15   \n",
       "\n",
       "   win_by_wickets player_of_match                                      venue  \\\n",
       "0               0    Yuvraj Singh  Rajiv Gandhi International Stadium, Uppal   \n",
       "1               7       SPD Smith    Maharashtra Cricket Association Stadium   \n",
       "2              10         CA Lynn     Saurashtra Cricket Association Stadium   \n",
       "3               6      GJ Maxwell                     Holkar Cricket Stadium   \n",
       "4               0       KM Jadhav                      M Chinnaswamy Stadium   \n",
       "\n",
       "          umpire1        umpire2 umpire3  \n",
       "0     AY Dandekar       NJ Llong     NaN  \n",
       "1  A Nand Kishore         S Ravi     NaN  \n",
       "2     Nitin Menon      CK Nandan     NaN  \n",
       "3    AK Chaudhary  C Shamshuddin     NaN  \n",
       "4             NaN            NaN     NaN  "
      ]
     },
     "execution_count": 7,
     "metadata": {},
     "output_type": "execute_result"
    }
   ],
   "source": [
    "datamat.head()"
   ]
  },
  {
   "cell_type": "code",
   "execution_count": 8,
   "id": "c149098f",
   "metadata": {
    "execution": {
     "iopub.execute_input": "2021-12-31T10:39:24.670199Z",
     "iopub.status.busy": "2021-12-31T10:39:24.669464Z",
     "iopub.status.idle": "2021-12-31T10:39:24.673742Z",
     "shell.execute_reply": "2021-12-31T10:39:24.673076Z",
     "shell.execute_reply.started": "2021-12-13T10:20:53.685557Z"
    },
    "papermill": {
     "duration": 0.042388,
     "end_time": "2021-12-31T10:39:24.673891",
     "exception": false,
     "start_time": "2021-12-31T10:39:24.631503",
     "status": "completed"
    },
    "tags": []
   },
   "outputs": [
    {
     "data": {
      "text/plain": [
       "(179078, 21)"
      ]
     },
     "execution_count": 8,
     "metadata": {},
     "output_type": "execute_result"
    }
   ],
   "source": [
    "datadev.shape"
   ]
  },
  {
   "cell_type": "code",
   "execution_count": 9,
   "id": "60867a40",
   "metadata": {
    "execution": {
     "iopub.execute_input": "2021-12-31T10:39:24.744740Z",
     "iopub.status.busy": "2021-12-31T10:39:24.744046Z",
     "iopub.status.idle": "2021-12-31T10:39:24.746633Z",
     "shell.execute_reply": "2021-12-31T10:39:24.747454Z",
     "shell.execute_reply.started": "2021-12-13T10:09:49.03002Z"
    },
    "papermill": {
     "duration": 0.040633,
     "end_time": "2021-12-31T10:39:24.747663",
     "exception": false,
     "start_time": "2021-12-31T10:39:24.707030",
     "status": "completed"
    },
    "tags": []
   },
   "outputs": [
    {
     "data": {
      "text/plain": [
       "(756, 18)"
      ]
     },
     "execution_count": 9,
     "metadata": {},
     "output_type": "execute_result"
    }
   ],
   "source": [
    "datamat.shape"
   ]
  },
  {
   "cell_type": "code",
   "execution_count": 10,
   "id": "b1c8920b",
   "metadata": {
    "execution": {
     "iopub.execute_input": "2021-12-31T10:39:24.830036Z",
     "iopub.status.busy": "2021-12-31T10:39:24.829247Z",
     "iopub.status.idle": "2021-12-31T10:39:24.832301Z",
     "shell.execute_reply": "2021-12-31T10:39:24.832815Z",
     "shell.execute_reply.started": "2021-12-13T10:12:41.406889Z"
    },
    "papermill": {
     "duration": 0.053015,
     "end_time": "2021-12-31T10:39:24.832991",
     "exception": false,
     "start_time": "2021-12-31T10:39:24.779976",
     "status": "completed"
    },
    "tags": []
   },
   "outputs": [
    {
     "data": {
      "text/plain": [
       "<bound method DataFrame.info of         id  season           city        date                        team1  \\\n",
       "0        1    2017      Hyderabad  2017-04-05          Sunrisers Hyderabad   \n",
       "1        2    2017           Pune  2017-04-06               Mumbai Indians   \n",
       "2        3    2017         Rajkot  2017-04-07                Gujarat Lions   \n",
       "3        4    2017         Indore  2017-04-08       Rising Pune Supergiant   \n",
       "4        5    2017      Bangalore  2017-04-08  Royal Challengers Bangalore   \n",
       "..     ...     ...            ...         ...                          ...   \n",
       "751  11347    2019         Mumbai    05/05/19        Kolkata Knight Riders   \n",
       "752  11412    2019        Chennai    07/05/19          Chennai Super Kings   \n",
       "753  11413    2019  Visakhapatnam    08/05/19          Sunrisers Hyderabad   \n",
       "754  11414    2019  Visakhapatnam    10/05/19               Delhi Capitals   \n",
       "755  11415    2019      Hyderabad    12/05/19               Mumbai Indians   \n",
       "\n",
       "                           team2                  toss_winner toss_decision  \\\n",
       "0    Royal Challengers Bangalore  Royal Challengers Bangalore         field   \n",
       "1         Rising Pune Supergiant       Rising Pune Supergiant         field   \n",
       "2          Kolkata Knight Riders        Kolkata Knight Riders         field   \n",
       "3                Kings XI Punjab              Kings XI Punjab         field   \n",
       "4               Delhi Daredevils  Royal Challengers Bangalore           bat   \n",
       "..                           ...                          ...           ...   \n",
       "751               Mumbai Indians               Mumbai Indians         field   \n",
       "752               Mumbai Indians          Chennai Super Kings           bat   \n",
       "753               Delhi Capitals               Delhi Capitals         field   \n",
       "754          Chennai Super Kings          Chennai Super Kings         field   \n",
       "755          Chennai Super Kings               Mumbai Indians           bat   \n",
       "\n",
       "     result  dl_applied                       winner  win_by_runs  \\\n",
       "0    normal           0          Sunrisers Hyderabad           35   \n",
       "1    normal           0       Rising Pune Supergiant            0   \n",
       "2    normal           0        Kolkata Knight Riders            0   \n",
       "3    normal           0              Kings XI Punjab            0   \n",
       "4    normal           0  Royal Challengers Bangalore           15   \n",
       "..      ...         ...                          ...          ...   \n",
       "751  normal           0               Mumbai Indians            0   \n",
       "752  normal           0               Mumbai Indians            0   \n",
       "753  normal           0               Delhi Capitals            0   \n",
       "754  normal           0          Chennai Super Kings            0   \n",
       "755  normal           0               Mumbai Indians            1   \n",
       "\n",
       "     win_by_wickets player_of_match  \\\n",
       "0                 0    Yuvraj Singh   \n",
       "1                 7       SPD Smith   \n",
       "2                10         CA Lynn   \n",
       "3                 6      GJ Maxwell   \n",
       "4                 0       KM Jadhav   \n",
       "..              ...             ...   \n",
       "751               9       HH Pandya   \n",
       "752               6        AS Yadav   \n",
       "753               2         RR Pant   \n",
       "754               6    F du Plessis   \n",
       "755               0       JJ Bumrah   \n",
       "\n",
       "                                         venue         umpire1  \\\n",
       "0    Rajiv Gandhi International Stadium, Uppal     AY Dandekar   \n",
       "1      Maharashtra Cricket Association Stadium  A Nand Kishore   \n",
       "2       Saurashtra Cricket Association Stadium     Nitin Menon   \n",
       "3                       Holkar Cricket Stadium    AK Chaudhary   \n",
       "4                        M Chinnaswamy Stadium             NaN   \n",
       "..                                         ...             ...   \n",
       "751                           Wankhede Stadium   Nanda Kishore   \n",
       "752                  M. A. Chidambaram Stadium     Nigel Llong   \n",
       "753                           ACA-VDCA Stadium             NaN   \n",
       "754                           ACA-VDCA Stadium   Sundaram Ravi   \n",
       "755         Rajiv Gandhi Intl. Cricket Stadium     Nitin Menon   \n",
       "\n",
       "            umpire2                  umpire3  \n",
       "0          NJ Llong                      NaN  \n",
       "1            S Ravi                      NaN  \n",
       "2         CK Nandan                      NaN  \n",
       "3     C Shamshuddin                      NaN  \n",
       "4               NaN                      NaN  \n",
       "..              ...                      ...  \n",
       "751        O Nandan                   S Ravi  \n",
       "752     Nitin Menon                Ian Gould  \n",
       "753             NaN                      NaN  \n",
       "754  Bruce Oxenford  Chettithody Shamshuddin  \n",
       "755       Ian Gould              Nigel Llong  \n",
       "\n",
       "[756 rows x 18 columns]>"
      ]
     },
     "execution_count": 10,
     "metadata": {},
     "output_type": "execute_result"
    }
   ],
   "source": [
    "datamat.info"
   ]
  },
  {
   "cell_type": "code",
   "execution_count": 11,
   "id": "dcfdc768",
   "metadata": {
    "execution": {
     "iopub.execute_input": "2021-12-31T10:39:24.946385Z",
     "iopub.status.busy": "2021-12-31T10:39:24.940783Z",
     "iopub.status.idle": "2021-12-31T10:39:24.978851Z",
     "shell.execute_reply": "2021-12-31T10:39:24.978294Z",
     "shell.execute_reply.started": "2021-12-13T10:13:25.350853Z"
    },
    "papermill": {
     "duration": 0.111392,
     "end_time": "2021-12-31T10:39:24.978994",
     "exception": false,
     "start_time": "2021-12-31T10:39:24.867602",
     "status": "completed"
    },
    "tags": []
   },
   "outputs": [
    {
     "data": {
      "text/plain": [
       "<bound method DataFrame.info of         match_id  inning         batting_team                 bowling_team  \\\n",
       "0              1       1  Sunrisers Hyderabad  Royal Challengers Bangalore   \n",
       "1              1       1  Sunrisers Hyderabad  Royal Challengers Bangalore   \n",
       "2              1       1  Sunrisers Hyderabad  Royal Challengers Bangalore   \n",
       "3              1       1  Sunrisers Hyderabad  Royal Challengers Bangalore   \n",
       "4              1       1  Sunrisers Hyderabad  Royal Challengers Bangalore   \n",
       "...          ...     ...                  ...                          ...   \n",
       "179073     11415       2  Chennai Super Kings               Mumbai Indians   \n",
       "179074     11415       2  Chennai Super Kings               Mumbai Indians   \n",
       "179075     11415       2  Chennai Super Kings               Mumbai Indians   \n",
       "179076     11415       2  Chennai Super Kings               Mumbai Indians   \n",
       "179077     11415       2  Chennai Super Kings               Mumbai Indians   \n",
       "\n",
       "        over  ball    batsman non_striker      bowler  is_super_over  ...  \\\n",
       "0          1     1  DA Warner    S Dhawan    TS Mills              0  ...   \n",
       "1          1     2  DA Warner    S Dhawan    TS Mills              0  ...   \n",
       "2          1     3  DA Warner    S Dhawan    TS Mills              0  ...   \n",
       "3          1     4  DA Warner    S Dhawan    TS Mills              0  ...   \n",
       "4          1     5  DA Warner    S Dhawan    TS Mills              0  ...   \n",
       "...      ...   ...        ...         ...         ...            ...  ...   \n",
       "179073    20     2  RA Jadeja   SR Watson  SL Malinga              0  ...   \n",
       "179074    20     3  SR Watson   RA Jadeja  SL Malinga              0  ...   \n",
       "179075    20     4  SR Watson   RA Jadeja  SL Malinga              0  ...   \n",
       "179076    20     5  SN Thakur   RA Jadeja  SL Malinga              0  ...   \n",
       "179077    20     6  SN Thakur   RA Jadeja  SL Malinga              0  ...   \n",
       "\n",
       "        bye_runs  legbye_runs  noball_runs  penalty_runs  batsman_runs  \\\n",
       "0              0            0            0             0             0   \n",
       "1              0            0            0             0             0   \n",
       "2              0            0            0             0             4   \n",
       "3              0            0            0             0             0   \n",
       "4              0            0            0             0             0   \n",
       "...          ...          ...          ...           ...           ...   \n",
       "179073         0            0            0             0             1   \n",
       "179074         0            0            0             0             2   \n",
       "179075         0            0            0             0             1   \n",
       "179076         0            0            0             0             2   \n",
       "179077         0            0            0             0             0   \n",
       "\n",
       "        extra_runs  total_runs  player_dismissed dismissal_kind    fielder  \n",
       "0                0           0               NaN            NaN        NaN  \n",
       "1                0           0               NaN            NaN        NaN  \n",
       "2                0           4               NaN            NaN        NaN  \n",
       "3                0           0               NaN            NaN        NaN  \n",
       "4                2           2               NaN            NaN        NaN  \n",
       "...            ...         ...               ...            ...        ...  \n",
       "179073           0           1               NaN            NaN        NaN  \n",
       "179074           0           2               NaN            NaN        NaN  \n",
       "179075           0           1         SR Watson        run out  KH Pandya  \n",
       "179076           0           2               NaN            NaN        NaN  \n",
       "179077           0           0         SN Thakur            lbw        NaN  \n",
       "\n",
       "[179078 rows x 21 columns]>"
      ]
     },
     "execution_count": 11,
     "metadata": {},
     "output_type": "execute_result"
    }
   ],
   "source": [
    "datadev.info"
   ]
  },
  {
   "cell_type": "code",
   "execution_count": 12,
   "id": "f72d7dc5",
   "metadata": {
    "execution": {
     "iopub.execute_input": "2021-12-31T10:39:25.062019Z",
     "iopub.status.busy": "2021-12-31T10:39:25.061327Z",
     "iopub.status.idle": "2021-12-31T10:39:25.082819Z",
     "shell.execute_reply": "2021-12-31T10:39:25.082131Z",
     "shell.execute_reply.started": "2021-12-13T10:14:41.107919Z"
    },
    "papermill": {
     "duration": 0.070489,
     "end_time": "2021-12-31T10:39:25.082963",
     "exception": false,
     "start_time": "2021-12-31T10:39:25.012474",
     "status": "completed"
    },
    "tags": []
   },
   "outputs": [
    {
     "data": {
      "text/html": [
       "<div>\n",
       "<style scoped>\n",
       "    .dataframe tbody tr th:only-of-type {\n",
       "        vertical-align: middle;\n",
       "    }\n",
       "\n",
       "    .dataframe tbody tr th {\n",
       "        vertical-align: top;\n",
       "    }\n",
       "\n",
       "    .dataframe thead th {\n",
       "        text-align: right;\n",
       "    }\n",
       "</style>\n",
       "<table border=\"1\" class=\"dataframe\">\n",
       "  <thead>\n",
       "    <tr style=\"text-align: right;\">\n",
       "      <th></th>\n",
       "      <th>id</th>\n",
       "      <th>season</th>\n",
       "      <th>dl_applied</th>\n",
       "      <th>win_by_runs</th>\n",
       "      <th>win_by_wickets</th>\n",
       "    </tr>\n",
       "  </thead>\n",
       "  <tbody>\n",
       "    <tr>\n",
       "      <th>count</th>\n",
       "      <td>756.000000</td>\n",
       "      <td>756.000000</td>\n",
       "      <td>756.000000</td>\n",
       "      <td>756.000000</td>\n",
       "      <td>756.000000</td>\n",
       "    </tr>\n",
       "    <tr>\n",
       "      <th>mean</th>\n",
       "      <td>1792.178571</td>\n",
       "      <td>2013.444444</td>\n",
       "      <td>0.025132</td>\n",
       "      <td>13.283069</td>\n",
       "      <td>3.350529</td>\n",
       "    </tr>\n",
       "    <tr>\n",
       "      <th>std</th>\n",
       "      <td>3464.478148</td>\n",
       "      <td>3.366895</td>\n",
       "      <td>0.156630</td>\n",
       "      <td>23.471144</td>\n",
       "      <td>3.387963</td>\n",
       "    </tr>\n",
       "    <tr>\n",
       "      <th>min</th>\n",
       "      <td>1.000000</td>\n",
       "      <td>2008.000000</td>\n",
       "      <td>0.000000</td>\n",
       "      <td>0.000000</td>\n",
       "      <td>0.000000</td>\n",
       "    </tr>\n",
       "    <tr>\n",
       "      <th>25%</th>\n",
       "      <td>189.750000</td>\n",
       "      <td>2011.000000</td>\n",
       "      <td>0.000000</td>\n",
       "      <td>0.000000</td>\n",
       "      <td>0.000000</td>\n",
       "    </tr>\n",
       "    <tr>\n",
       "      <th>50%</th>\n",
       "      <td>378.500000</td>\n",
       "      <td>2013.000000</td>\n",
       "      <td>0.000000</td>\n",
       "      <td>0.000000</td>\n",
       "      <td>4.000000</td>\n",
       "    </tr>\n",
       "    <tr>\n",
       "      <th>75%</th>\n",
       "      <td>567.250000</td>\n",
       "      <td>2016.000000</td>\n",
       "      <td>0.000000</td>\n",
       "      <td>19.000000</td>\n",
       "      <td>6.000000</td>\n",
       "    </tr>\n",
       "    <tr>\n",
       "      <th>max</th>\n",
       "      <td>11415.000000</td>\n",
       "      <td>2019.000000</td>\n",
       "      <td>1.000000</td>\n",
       "      <td>146.000000</td>\n",
       "      <td>10.000000</td>\n",
       "    </tr>\n",
       "  </tbody>\n",
       "</table>\n",
       "</div>"
      ],
      "text/plain": [
       "                 id       season  dl_applied  win_by_runs  win_by_wickets\n",
       "count    756.000000   756.000000  756.000000   756.000000      756.000000\n",
       "mean    1792.178571  2013.444444    0.025132    13.283069        3.350529\n",
       "std     3464.478148     3.366895    0.156630    23.471144        3.387963\n",
       "min        1.000000  2008.000000    0.000000     0.000000        0.000000\n",
       "25%      189.750000  2011.000000    0.000000     0.000000        0.000000\n",
       "50%      378.500000  2013.000000    0.000000     0.000000        4.000000\n",
       "75%      567.250000  2016.000000    0.000000    19.000000        6.000000\n",
       "max    11415.000000  2019.000000    1.000000   146.000000       10.000000"
      ]
     },
     "execution_count": 12,
     "metadata": {},
     "output_type": "execute_result"
    }
   ],
   "source": [
    "datamat.describe()"
   ]
  },
  {
   "cell_type": "code",
   "execution_count": 13,
   "id": "143e2d35",
   "metadata": {
    "execution": {
     "iopub.execute_input": "2021-12-31T10:39:25.165819Z",
     "iopub.status.busy": "2021-12-31T10:39:25.165109Z",
     "iopub.status.idle": "2021-12-31T10:39:25.251202Z",
     "shell.execute_reply": "2021-12-31T10:39:25.250653Z",
     "shell.execute_reply.started": "2021-12-13T10:16:05.164317Z"
    },
    "papermill": {
     "duration": 0.133397,
     "end_time": "2021-12-31T10:39:25.251354",
     "exception": false,
     "start_time": "2021-12-31T10:39:25.117957",
     "status": "completed"
    },
    "tags": []
   },
   "outputs": [
    {
     "data": {
      "text/html": [
       "<div>\n",
       "<style scoped>\n",
       "    .dataframe tbody tr th:only-of-type {\n",
       "        vertical-align: middle;\n",
       "    }\n",
       "\n",
       "    .dataframe tbody tr th {\n",
       "        vertical-align: top;\n",
       "    }\n",
       "\n",
       "    .dataframe thead th {\n",
       "        text-align: right;\n",
       "    }\n",
       "</style>\n",
       "<table border=\"1\" class=\"dataframe\">\n",
       "  <thead>\n",
       "    <tr style=\"text-align: right;\">\n",
       "      <th></th>\n",
       "      <th>match_id</th>\n",
       "      <th>inning</th>\n",
       "      <th>over</th>\n",
       "      <th>ball</th>\n",
       "      <th>is_super_over</th>\n",
       "      <th>wide_runs</th>\n",
       "      <th>bye_runs</th>\n",
       "      <th>legbye_runs</th>\n",
       "      <th>noball_runs</th>\n",
       "      <th>penalty_runs</th>\n",
       "      <th>batsman_runs</th>\n",
       "      <th>extra_runs</th>\n",
       "      <th>total_runs</th>\n",
       "    </tr>\n",
       "  </thead>\n",
       "  <tbody>\n",
       "    <tr>\n",
       "      <th>count</th>\n",
       "      <td>179078.000000</td>\n",
       "      <td>179078.000000</td>\n",
       "      <td>179078.000000</td>\n",
       "      <td>179078.000000</td>\n",
       "      <td>179078.000000</td>\n",
       "      <td>179078.000000</td>\n",
       "      <td>179078.000000</td>\n",
       "      <td>179078.000000</td>\n",
       "      <td>179078.000000</td>\n",
       "      <td>179078.000000</td>\n",
       "      <td>179078.000000</td>\n",
       "      <td>179078.000000</td>\n",
       "      <td>179078.000000</td>\n",
       "    </tr>\n",
       "    <tr>\n",
       "      <th>mean</th>\n",
       "      <td>1802.252957</td>\n",
       "      <td>1.482952</td>\n",
       "      <td>10.162488</td>\n",
       "      <td>3.615587</td>\n",
       "      <td>0.000452</td>\n",
       "      <td>0.036721</td>\n",
       "      <td>0.004936</td>\n",
       "      <td>0.021136</td>\n",
       "      <td>0.004183</td>\n",
       "      <td>0.000056</td>\n",
       "      <td>1.246864</td>\n",
       "      <td>0.067032</td>\n",
       "      <td>1.313897</td>\n",
       "    </tr>\n",
       "    <tr>\n",
       "      <th>std</th>\n",
       "      <td>3472.322805</td>\n",
       "      <td>0.502074</td>\n",
       "      <td>5.677684</td>\n",
       "      <td>1.806966</td>\n",
       "      <td>0.021263</td>\n",
       "      <td>0.251161</td>\n",
       "      <td>0.116480</td>\n",
       "      <td>0.194908</td>\n",
       "      <td>0.070492</td>\n",
       "      <td>0.016709</td>\n",
       "      <td>1.608270</td>\n",
       "      <td>0.342553</td>\n",
       "      <td>1.605422</td>\n",
       "    </tr>\n",
       "    <tr>\n",
       "      <th>min</th>\n",
       "      <td>1.000000</td>\n",
       "      <td>1.000000</td>\n",
       "      <td>1.000000</td>\n",
       "      <td>1.000000</td>\n",
       "      <td>0.000000</td>\n",
       "      <td>0.000000</td>\n",
       "      <td>0.000000</td>\n",
       "      <td>0.000000</td>\n",
       "      <td>0.000000</td>\n",
       "      <td>0.000000</td>\n",
       "      <td>0.000000</td>\n",
       "      <td>0.000000</td>\n",
       "      <td>0.000000</td>\n",
       "    </tr>\n",
       "    <tr>\n",
       "      <th>25%</th>\n",
       "      <td>190.000000</td>\n",
       "      <td>1.000000</td>\n",
       "      <td>5.000000</td>\n",
       "      <td>2.000000</td>\n",
       "      <td>0.000000</td>\n",
       "      <td>0.000000</td>\n",
       "      <td>0.000000</td>\n",
       "      <td>0.000000</td>\n",
       "      <td>0.000000</td>\n",
       "      <td>0.000000</td>\n",
       "      <td>0.000000</td>\n",
       "      <td>0.000000</td>\n",
       "      <td>0.000000</td>\n",
       "    </tr>\n",
       "    <tr>\n",
       "      <th>50%</th>\n",
       "      <td>379.000000</td>\n",
       "      <td>1.000000</td>\n",
       "      <td>10.000000</td>\n",
       "      <td>4.000000</td>\n",
       "      <td>0.000000</td>\n",
       "      <td>0.000000</td>\n",
       "      <td>0.000000</td>\n",
       "      <td>0.000000</td>\n",
       "      <td>0.000000</td>\n",
       "      <td>0.000000</td>\n",
       "      <td>1.000000</td>\n",
       "      <td>0.000000</td>\n",
       "      <td>1.000000</td>\n",
       "    </tr>\n",
       "    <tr>\n",
       "      <th>75%</th>\n",
       "      <td>567.000000</td>\n",
       "      <td>2.000000</td>\n",
       "      <td>15.000000</td>\n",
       "      <td>5.000000</td>\n",
       "      <td>0.000000</td>\n",
       "      <td>0.000000</td>\n",
       "      <td>0.000000</td>\n",
       "      <td>0.000000</td>\n",
       "      <td>0.000000</td>\n",
       "      <td>0.000000</td>\n",
       "      <td>1.000000</td>\n",
       "      <td>0.000000</td>\n",
       "      <td>1.000000</td>\n",
       "    </tr>\n",
       "    <tr>\n",
       "      <th>max</th>\n",
       "      <td>11415.000000</td>\n",
       "      <td>5.000000</td>\n",
       "      <td>20.000000</td>\n",
       "      <td>9.000000</td>\n",
       "      <td>1.000000</td>\n",
       "      <td>5.000000</td>\n",
       "      <td>4.000000</td>\n",
       "      <td>5.000000</td>\n",
       "      <td>5.000000</td>\n",
       "      <td>5.000000</td>\n",
       "      <td>7.000000</td>\n",
       "      <td>7.000000</td>\n",
       "      <td>10.000000</td>\n",
       "    </tr>\n",
       "  </tbody>\n",
       "</table>\n",
       "</div>"
      ],
      "text/plain": [
       "            match_id         inning           over           ball  \\\n",
       "count  179078.000000  179078.000000  179078.000000  179078.000000   \n",
       "mean     1802.252957       1.482952      10.162488       3.615587   \n",
       "std      3472.322805       0.502074       5.677684       1.806966   \n",
       "min         1.000000       1.000000       1.000000       1.000000   \n",
       "25%       190.000000       1.000000       5.000000       2.000000   \n",
       "50%       379.000000       1.000000      10.000000       4.000000   \n",
       "75%       567.000000       2.000000      15.000000       5.000000   \n",
       "max     11415.000000       5.000000      20.000000       9.000000   \n",
       "\n",
       "       is_super_over      wide_runs       bye_runs    legbye_runs  \\\n",
       "count  179078.000000  179078.000000  179078.000000  179078.000000   \n",
       "mean        0.000452       0.036721       0.004936       0.021136   \n",
       "std         0.021263       0.251161       0.116480       0.194908   \n",
       "min         0.000000       0.000000       0.000000       0.000000   \n",
       "25%         0.000000       0.000000       0.000000       0.000000   \n",
       "50%         0.000000       0.000000       0.000000       0.000000   \n",
       "75%         0.000000       0.000000       0.000000       0.000000   \n",
       "max         1.000000       5.000000       4.000000       5.000000   \n",
       "\n",
       "         noball_runs   penalty_runs   batsman_runs     extra_runs  \\\n",
       "count  179078.000000  179078.000000  179078.000000  179078.000000   \n",
       "mean        0.004183       0.000056       1.246864       0.067032   \n",
       "std         0.070492       0.016709       1.608270       0.342553   \n",
       "min         0.000000       0.000000       0.000000       0.000000   \n",
       "25%         0.000000       0.000000       0.000000       0.000000   \n",
       "50%         0.000000       0.000000       1.000000       0.000000   \n",
       "75%         0.000000       0.000000       1.000000       0.000000   \n",
       "max         5.000000       5.000000       7.000000       7.000000   \n",
       "\n",
       "          total_runs  \n",
       "count  179078.000000  \n",
       "mean        1.313897  \n",
       "std         1.605422  \n",
       "min         0.000000  \n",
       "25%         0.000000  \n",
       "50%         1.000000  \n",
       "75%         1.000000  \n",
       "max        10.000000  "
      ]
     },
     "execution_count": 13,
     "metadata": {},
     "output_type": "execute_result"
    }
   ],
   "source": [
    "datadev.describe()"
   ]
  },
  {
   "cell_type": "code",
   "execution_count": 14,
   "id": "29f184f4",
   "metadata": {
    "execution": {
     "iopub.execute_input": "2021-12-31T10:39:25.325256Z",
     "iopub.status.busy": "2021-12-31T10:39:25.324275Z",
     "iopub.status.idle": "2021-12-31T10:39:25.461328Z",
     "shell.execute_reply": "2021-12-31T10:39:25.460671Z",
     "shell.execute_reply.started": "2021-12-13T10:19:31.69056Z"
    },
    "papermill": {
     "duration": 0.174948,
     "end_time": "2021-12-31T10:39:25.461480",
     "exception": false,
     "start_time": "2021-12-31T10:39:25.286532",
     "status": "completed"
    },
    "tags": []
   },
   "outputs": [
    {
     "name": "stdout",
     "output_type": "stream",
     "text": [
      "id                   0\n",
      "season               0\n",
      "city                 7\n",
      "date                 0\n",
      "team1                0\n",
      "team2                0\n",
      "toss_winner          0\n",
      "toss_decision        0\n",
      "result               0\n",
      "dl_applied           0\n",
      "winner               4\n",
      "win_by_runs          0\n",
      "win_by_wickets       0\n",
      "player_of_match      4\n",
      "venue                0\n",
      "umpire1              2\n",
      "umpire2              2\n",
      "umpire3            637\n",
      "dtype: int64 match_id                 0\n",
      "inning                   0\n",
      "batting_team             0\n",
      "bowling_team             0\n",
      "over                     0\n",
      "ball                     0\n",
      "batsman                  0\n",
      "non_striker              0\n",
      "bowler                   0\n",
      "is_super_over            0\n",
      "wide_runs                0\n",
      "bye_runs                 0\n",
      "legbye_runs              0\n",
      "noball_runs              0\n",
      "penalty_runs             0\n",
      "batsman_runs             0\n",
      "extra_runs               0\n",
      "total_runs               0\n",
      "player_dismissed    170244\n",
      "dismissal_kind      170244\n",
      "fielder             172630\n",
      "dtype: int64\n"
     ]
    }
   ],
   "source": [
    "print(datamat.isnull().sum(),datadev.isnull().sum())"
   ]
  },
  {
   "cell_type": "code",
   "execution_count": 15,
   "id": "4dc91b01",
   "metadata": {
    "execution": {
     "iopub.execute_input": "2021-12-31T10:39:25.534393Z",
     "iopub.status.busy": "2021-12-31T10:39:25.533425Z",
     "iopub.status.idle": "2021-12-31T10:39:25.539180Z",
     "shell.execute_reply": "2021-12-31T10:39:25.539813Z",
     "shell.execute_reply.started": "2021-12-13T10:22:17.203147Z"
    },
    "papermill": {
     "duration": 0.044147,
     "end_time": "2021-12-31T10:39:25.539990",
     "exception": false,
     "start_time": "2021-12-31T10:39:25.495843",
     "status": "completed"
    },
    "tags": []
   },
   "outputs": [
    {
     "data": {
      "text/plain": [
       "11415"
      ]
     },
     "execution_count": 15,
     "metadata": {},
     "output_type": "execute_result"
    }
   ],
   "source": [
    "datamat[\"id\"].max()"
   ]
  },
  {
   "cell_type": "code",
   "execution_count": 16,
   "id": "f3fbcbcd",
   "metadata": {
    "execution": {
     "iopub.execute_input": "2021-12-31T10:39:25.613985Z",
     "iopub.status.busy": "2021-12-31T10:39:25.613053Z",
     "iopub.status.idle": "2021-12-31T10:39:25.618893Z",
     "shell.execute_reply": "2021-12-31T10:39:25.619434Z",
     "shell.execute_reply.started": "2021-12-13T10:23:23.276818Z"
    },
    "papermill": {
     "duration": 0.044244,
     "end_time": "2021-12-31T10:39:25.619624",
     "exception": false,
     "start_time": "2021-12-31T10:39:25.575380",
     "status": "completed"
    },
    "tags": []
   },
   "outputs": [
    {
     "data": {
      "text/plain": [
       "array([2017, 2008, 2009, 2010, 2011, 2012, 2013, 2014, 2015, 2016, 2018,\n",
       "       2019])"
      ]
     },
     "execution_count": 16,
     "metadata": {},
     "output_type": "execute_result"
    }
   ],
   "source": [
    "datamat[\"season\"].unique()"
   ]
  },
  {
   "cell_type": "code",
   "execution_count": 17,
   "id": "2f518de8",
   "metadata": {
    "execution": {
     "iopub.execute_input": "2021-12-31T10:39:25.699902Z",
     "iopub.status.busy": "2021-12-31T10:39:25.696386Z",
     "iopub.status.idle": "2021-12-31T10:39:25.703090Z",
     "shell.execute_reply": "2021-12-31T10:39:25.703569Z",
     "shell.execute_reply.started": "2021-12-13T10:25:55.565173Z"
    },
    "papermill": {
     "duration": 0.04717,
     "end_time": "2021-12-31T10:39:25.703754",
     "exception": false,
     "start_time": "2021-12-31T10:39:25.656584",
     "status": "completed"
    },
    "tags": []
   },
   "outputs": [
    {
     "data": {
      "text/plain": [
       "'Mumbai Indians'"
      ]
     },
     "execution_count": 17,
     "metadata": {},
     "output_type": "execute_result"
    }
   ],
   "source": [
    "datamat.iloc[datamat[\"win_by_runs\"].idxmax()][\"winner\"]"
   ]
  },
  {
   "cell_type": "code",
   "execution_count": 18,
   "id": "4ffd767c",
   "metadata": {
    "execution": {
     "iopub.execute_input": "2021-12-31T10:39:25.783746Z",
     "iopub.status.busy": "2021-12-31T10:39:25.782712Z",
     "iopub.status.idle": "2021-12-31T10:39:25.786195Z",
     "shell.execute_reply": "2021-12-31T10:39:25.786689Z",
     "shell.execute_reply.started": "2021-12-13T10:26:15.885525Z"
    },
    "papermill": {
     "duration": 0.04743,
     "end_time": "2021-12-31T10:39:25.786857",
     "exception": false,
     "start_time": "2021-12-31T10:39:25.739427",
     "status": "completed"
    },
    "tags": []
   },
   "outputs": [
    {
     "data": {
      "text/plain": [
       "id                               44\n",
       "season                         2017\n",
       "city                          Delhi\n",
       "date                     2017-05-06\n",
       "team1                Mumbai Indians\n",
       "team2              Delhi Daredevils\n",
       "toss_winner        Delhi Daredevils\n",
       "toss_decision                 field\n",
       "result                       normal\n",
       "dl_applied                        0\n",
       "winner               Mumbai Indians\n",
       "win_by_runs                     146\n",
       "win_by_wickets                    0\n",
       "player_of_match         LMP Simmons\n",
       "venue              Feroz Shah Kotla\n",
       "umpire1                 Nitin Menon\n",
       "umpire2                   CK Nandan\n",
       "umpire3                         NaN\n",
       "Name: 43, dtype: object"
      ]
     },
     "execution_count": 18,
     "metadata": {},
     "output_type": "execute_result"
    }
   ],
   "source": [
    "datamat.iloc[datamat[\"win_by_runs\"].idxmax()]"
   ]
  },
  {
   "cell_type": "code",
   "execution_count": 19,
   "id": "283ec0e5",
   "metadata": {
    "execution": {
     "iopub.execute_input": "2021-12-31T10:39:25.868460Z",
     "iopub.status.busy": "2021-12-31T10:39:25.867735Z",
     "iopub.status.idle": "2021-12-31T10:39:25.870838Z",
     "shell.execute_reply": "2021-12-31T10:39:25.871322Z",
     "shell.execute_reply.started": "2021-12-13T10:28:13.434239Z"
    },
    "papermill": {
     "duration": 0.047403,
     "end_time": "2021-12-31T10:39:25.871490",
     "exception": false,
     "start_time": "2021-12-31T10:39:25.824087",
     "status": "completed"
    },
    "tags": []
   },
   "outputs": [
    {
     "data": {
      "text/plain": [
       "id                                                      3\n",
       "season                                               2017\n",
       "city                                               Rajkot\n",
       "date                                           2017-04-07\n",
       "team1                                       Gujarat Lions\n",
       "team2                               Kolkata Knight Riders\n",
       "toss_winner                         Kolkata Knight Riders\n",
       "toss_decision                                       field\n",
       "result                                             normal\n",
       "dl_applied                                              0\n",
       "winner                              Kolkata Knight Riders\n",
       "win_by_runs                                             0\n",
       "win_by_wickets                                         10\n",
       "player_of_match                                   CA Lynn\n",
       "venue              Saurashtra Cricket Association Stadium\n",
       "umpire1                                       Nitin Menon\n",
       "umpire2                                         CK Nandan\n",
       "umpire3                                               NaN\n",
       "Name: 2, dtype: object"
      ]
     },
     "execution_count": 19,
     "metadata": {},
     "output_type": "execute_result"
    }
   ],
   "source": [
    "datamat.iloc[datamat[\"win_by_wickets\"].idxmax()]"
   ]
  },
  {
   "cell_type": "code",
   "execution_count": 20,
   "id": "c0244347",
   "metadata": {
    "execution": {
     "iopub.execute_input": "2021-12-31T10:39:25.950441Z",
     "iopub.status.busy": "2021-12-31T10:39:25.949690Z",
     "iopub.status.idle": "2021-12-31T10:39:25.952708Z",
     "shell.execute_reply": "2021-12-31T10:39:25.953201Z",
     "shell.execute_reply.started": "2021-12-13T10:28:26.982998Z"
    },
    "papermill": {
     "duration": 0.045567,
     "end_time": "2021-12-31T10:39:25.953381",
     "exception": false,
     "start_time": "2021-12-31T10:39:25.907814",
     "status": "completed"
    },
    "tags": []
   },
   "outputs": [
    {
     "data": {
      "text/plain": [
       "'Kolkata Knight Riders'"
      ]
     },
     "execution_count": 20,
     "metadata": {},
     "output_type": "execute_result"
    }
   ],
   "source": [
    "datamat.iloc[datamat[\"win_by_wickets\"].idxmax()][\"winner\"]"
   ]
  },
  {
   "cell_type": "code",
   "execution_count": 21,
   "id": "6bed9065",
   "metadata": {
    "execution": {
     "iopub.execute_input": "2021-12-31T10:39:26.031228Z",
     "iopub.status.busy": "2021-12-31T10:39:26.030229Z",
     "iopub.status.idle": "2021-12-31T10:39:26.036670Z",
     "shell.execute_reply": "2021-12-31T10:39:26.037164Z",
     "shell.execute_reply.started": "2021-12-13T10:30:23.359152Z"
    },
    "papermill": {
     "duration": 0.046819,
     "end_time": "2021-12-31T10:39:26.037344",
     "exception": false,
     "start_time": "2021-12-31T10:39:25.990525",
     "status": "completed"
    },
    "tags": []
   },
   "outputs": [
    {
     "data": {
      "text/plain": [
       "'Rising Pune Supergiant'"
      ]
     },
     "execution_count": 21,
     "metadata": {},
     "output_type": "execute_result"
    }
   ],
   "source": [
    "datamat.iloc[datamat[\"win_by_runs\"].idxmin()][\"winner\"]"
   ]
  },
  {
   "cell_type": "code",
   "execution_count": 22,
   "id": "96885dca",
   "metadata": {
    "execution": {
     "iopub.execute_input": "2021-12-31T10:39:26.116990Z",
     "iopub.status.busy": "2021-12-31T10:39:26.116250Z",
     "iopub.status.idle": "2021-12-31T10:39:26.123049Z",
     "shell.execute_reply": "2021-12-31T10:39:26.123509Z",
     "shell.execute_reply.started": "2021-12-13T10:31:06.919723Z"
    },
    "papermill": {
     "duration": 0.047561,
     "end_time": "2021-12-31T10:39:26.123718",
     "exception": false,
     "start_time": "2021-12-31T10:39:26.076157",
     "status": "completed"
    },
    "tags": []
   },
   "outputs": [
    {
     "data": {
      "text/plain": [
       "id                                                       2\n",
       "season                                                2017\n",
       "city                                                  Pune\n",
       "date                                            2017-04-06\n",
       "team1                                       Mumbai Indians\n",
       "team2                               Rising Pune Supergiant\n",
       "toss_winner                         Rising Pune Supergiant\n",
       "toss_decision                                        field\n",
       "result                                              normal\n",
       "dl_applied                                               0\n",
       "winner                              Rising Pune Supergiant\n",
       "win_by_runs                                              0\n",
       "win_by_wickets                                           7\n",
       "player_of_match                                  SPD Smith\n",
       "venue              Maharashtra Cricket Association Stadium\n",
       "umpire1                                     A Nand Kishore\n",
       "umpire2                                             S Ravi\n",
       "umpire3                                                NaN\n",
       "Name: 1, dtype: object"
      ]
     },
     "execution_count": 22,
     "metadata": {},
     "output_type": "execute_result"
    }
   ],
   "source": [
    "datamat.iloc[datamat[\"win_by_runs\"].idxmin()]"
   ]
  },
  {
   "cell_type": "code",
   "execution_count": 23,
   "id": "cc32bd3d",
   "metadata": {
    "execution": {
     "iopub.execute_input": "2021-12-31T10:39:26.203448Z",
     "iopub.status.busy": "2021-12-31T10:39:26.202758Z",
     "iopub.status.idle": "2021-12-31T10:39:26.208201Z",
     "shell.execute_reply": "2021-12-31T10:39:26.208706Z",
     "shell.execute_reply.started": "2021-12-13T10:32:44.500592Z"
    },
    "papermill": {
     "duration": 0.046946,
     "end_time": "2021-12-31T10:39:26.208879",
     "exception": false,
     "start_time": "2021-12-31T10:39:26.161933",
     "status": "completed"
    },
    "tags": []
   },
   "outputs": [
    {
     "data": {
      "text/plain": [
       "'Sunrisers Hyderabad'"
      ]
     },
     "execution_count": 23,
     "metadata": {},
     "output_type": "execute_result"
    }
   ],
   "source": [
    "datamat.iloc[datamat[\"win_by_wickets\"].idxmin()][\"winner\"]"
   ]
  },
  {
   "cell_type": "markdown",
   "id": "51a85fde",
   "metadata": {
    "papermill": {
     "duration": 0.039319,
     "end_time": "2021-12-31T10:39:26.287216",
     "exception": false,
     "start_time": "2021-12-31T10:39:26.247897",
     "status": "completed"
    },
    "tags": []
   },
   "source": [
    "# data visualization "
   ]
  },
  {
   "cell_type": "code",
   "execution_count": 24,
   "id": "656020db",
   "metadata": {
    "execution": {
     "iopub.execute_input": "2021-12-31T10:39:26.370365Z",
     "iopub.status.busy": "2021-12-31T10:39:26.369512Z",
     "iopub.status.idle": "2021-12-31T10:39:26.657405Z",
     "shell.execute_reply": "2021-12-31T10:39:26.657919Z",
     "shell.execute_reply.started": "2021-12-13T10:44:08.988373Z"
    },
    "papermill": {
     "duration": 0.332599,
     "end_time": "2021-12-31T10:39:26.658093",
     "exception": false,
     "start_time": "2021-12-31T10:39:26.325494",
     "status": "completed"
    },
    "tags": []
   },
   "outputs": [
    {
     "data": {
      "image/png": "[encoded data removed]",
      "text/plain": [
       "<Figure size 1080x720 with 1 Axes>"
      ]
     },
     "metadata": {
      "needs_background": "light"
     },
     "output_type": "display_data"
    }
   ],
   "source": [
    "plt.figure(figsize=(15,10))\n",
    "sns.countplot(x=\"season\",data=datamat, palette=\"bright\")\n",
    "plt.ylabel(\"number of matches\")\n",
    "plt.show()"
   ]
  },
  {
   "cell_type": "code",
   "execution_count": 25,
   "id": "42cacf6b",
   "metadata": {
    "execution": {
     "iopub.execute_input": "2021-12-31T10:39:26.754112Z",
     "iopub.status.busy": "2021-12-31T10:39:26.753431Z",
     "iopub.status.idle": "2021-12-31T10:39:26.757256Z",
     "shell.execute_reply": "2021-12-31T10:39:26.756638Z",
     "shell.execute_reply.started": "2021-12-13T10:49:15.872354Z"
    },
    "papermill": {
     "duration": 0.061107,
     "end_time": "2021-12-31T10:39:26.757402",
     "exception": false,
     "start_time": "2021-12-31T10:39:26.696295",
     "status": "completed"
    },
    "tags": []
   },
   "outputs": [
    {
     "data": {
      "text/html": [
       "<div>\n",
       "<style scoped>\n",
       "    .dataframe tbody tr th:only-of-type {\n",
       "        vertical-align: middle;\n",
       "    }\n",
       "\n",
       "    .dataframe tbody tr th {\n",
       "        vertical-align: top;\n",
       "    }\n",
       "\n",
       "    .dataframe thead th {\n",
       "        text-align: right;\n",
       "    }\n",
       "</style>\n",
       "<table border=\"1\" class=\"dataframe\">\n",
       "  <thead>\n",
       "    <tr style=\"text-align: right;\">\n",
       "      <th></th>\n",
       "      <th>id</th>\n",
       "      <th>season</th>\n",
       "      <th>city</th>\n",
       "      <th>date</th>\n",
       "      <th>team1</th>\n",
       "      <th>team2</th>\n",
       "      <th>toss_winner</th>\n",
       "      <th>toss_decision</th>\n",
       "      <th>result</th>\n",
       "      <th>dl_applied</th>\n",
       "      <th>winner</th>\n",
       "      <th>win_by_runs</th>\n",
       "      <th>win_by_wickets</th>\n",
       "      <th>player_of_match</th>\n",
       "      <th>venue</th>\n",
       "      <th>umpire1</th>\n",
       "      <th>umpire2</th>\n",
       "      <th>umpire3</th>\n",
       "    </tr>\n",
       "  </thead>\n",
       "  <tbody>\n",
       "    <tr>\n",
       "      <th>0</th>\n",
       "      <td>1</td>\n",
       "      <td>2017</td>\n",
       "      <td>Hyderabad</td>\n",
       "      <td>2017-04-05</td>\n",
       "      <td>Sunrisers Hyderabad</td>\n",
       "      <td>Royal Challengers Bangalore</td>\n",
       "      <td>Royal Challengers Bangalore</td>\n",
       "      <td>field</td>\n",
       "      <td>normal</td>\n",
       "      <td>0</td>\n",
       "      <td>Sunrisers Hyderabad</td>\n",
       "      <td>35</td>\n",
       "      <td>0</td>\n",
       "      <td>Yuvraj Singh</td>\n",
       "      <td>Rajiv Gandhi International Stadium, Uppal</td>\n",
       "      <td>AY Dandekar</td>\n",
       "      <td>NJ Llong</td>\n",
       "      <td>NaN</td>\n",
       "    </tr>\n",
       "    <tr>\n",
       "      <th>1</th>\n",
       "      <td>2</td>\n",
       "      <td>2017</td>\n",
       "      <td>Pune</td>\n",
       "      <td>2017-04-06</td>\n",
       "      <td>Mumbai Indians</td>\n",
       "      <td>Rising Pune Supergiant</td>\n",
       "      <td>Rising Pune Supergiant</td>\n",
       "      <td>field</td>\n",
       "      <td>normal</td>\n",
       "      <td>0</td>\n",
       "      <td>Rising Pune Supergiant</td>\n",
       "      <td>0</td>\n",
       "      <td>7</td>\n",
       "      <td>SPD Smith</td>\n",
       "      <td>Maharashtra Cricket Association Stadium</td>\n",
       "      <td>A Nand Kishore</td>\n",
       "      <td>S Ravi</td>\n",
       "      <td>NaN</td>\n",
       "    </tr>\n",
       "    <tr>\n",
       "      <th>2</th>\n",
       "      <td>3</td>\n",
       "      <td>2017</td>\n",
       "      <td>Rajkot</td>\n",
       "      <td>2017-04-07</td>\n",
       "      <td>Gujarat Lions</td>\n",
       "      <td>Kolkata Knight Riders</td>\n",
       "      <td>Kolkata Knight Riders</td>\n",
       "      <td>field</td>\n",
       "      <td>normal</td>\n",
       "      <td>0</td>\n",
       "      <td>Kolkata Knight Riders</td>\n",
       "      <td>0</td>\n",
       "      <td>10</td>\n",
       "      <td>CA Lynn</td>\n",
       "      <td>Saurashtra Cricket Association Stadium</td>\n",
       "      <td>Nitin Menon</td>\n",
       "      <td>CK Nandan</td>\n",
       "      <td>NaN</td>\n",
       "    </tr>\n",
       "    <tr>\n",
       "      <th>3</th>\n",
       "      <td>4</td>\n",
       "      <td>2017</td>\n",
       "      <td>Indore</td>\n",
       "      <td>2017-04-08</td>\n",
       "      <td>Rising Pune Supergiant</td>\n",
       "      <td>Kings XI Punjab</td>\n",
       "      <td>Kings XI Punjab</td>\n",
       "      <td>field</td>\n",
       "      <td>normal</td>\n",
       "      <td>0</td>\n",
       "      <td>Kings XI Punjab</td>\n",
       "      <td>0</td>\n",
       "      <td>6</td>\n",
       "      <td>GJ Maxwell</td>\n",
       "      <td>Holkar Cricket Stadium</td>\n",
       "      <td>AK Chaudhary</td>\n",
       "      <td>C Shamshuddin</td>\n",
       "      <td>NaN</td>\n",
       "    </tr>\n",
       "    <tr>\n",
       "      <th>4</th>\n",
       "      <td>5</td>\n",
       "      <td>2017</td>\n",
       "      <td>Bangalore</td>\n",
       "      <td>2017-04-08</td>\n",
       "      <td>Royal Challengers Bangalore</td>\n",
       "      <td>Delhi Daredevils</td>\n",
       "      <td>Royal Challengers Bangalore</td>\n",
       "      <td>bat</td>\n",
       "      <td>normal</td>\n",
       "      <td>0</td>\n",
       "      <td>Royal Challengers Bangalore</td>\n",
       "      <td>15</td>\n",
       "      <td>0</td>\n",
       "      <td>KM Jadhav</td>\n",
       "      <td>M Chinnaswamy Stadium</td>\n",
       "      <td>NaN</td>\n",
       "      <td>NaN</td>\n",
       "      <td>NaN</td>\n",
       "    </tr>\n",
       "  </tbody>\n",
       "</table>\n",
       "</div>"
      ],
      "text/plain": [
       "   id  season       city        date                        team1  \\\n",
       "0   1    2017  Hyderabad  2017-04-05          Sunrisers Hyderabad   \n",
       "1   2    2017       Pune  2017-04-06               Mumbai Indians   \n",
       "2   3    2017     Rajkot  2017-04-07                Gujarat Lions   \n",
       "3   4    2017     Indore  2017-04-08       Rising Pune Supergiant   \n",
       "4   5    2017  Bangalore  2017-04-08  Royal Challengers Bangalore   \n",
       "\n",
       "                         team2                  toss_winner toss_decision  \\\n",
       "0  Royal Challengers Bangalore  Royal Challengers Bangalore         field   \n",
       "1       Rising Pune Supergiant       Rising Pune Supergiant         field   \n",
       "2        Kolkata Knight Riders        Kolkata Knight Riders         field   \n",
       "3              Kings XI Punjab              Kings XI Punjab         field   \n",
       "4             Delhi Daredevils  Royal Challengers Bangalore           bat   \n",
       "\n",
       "   result  dl_applied                       winner  win_by_runs  \\\n",
       "0  normal           0          Sunrisers Hyderabad           35   \n",
       "1  normal           0       Rising Pune Supergiant            0   \n",
       "2  normal           0        Kolkata Knight Riders            0   \n",
       "3  normal           0              Kings XI Punjab            0   \n",
       "4  normal           0  Royal Challengers Bangalore           15   \n",
       "\n",
       "   win_by_wickets player_of_match                                      venue  \\\n",
       "0               0    Yuvraj Singh  Rajiv Gandhi International Stadium, Uppal   \n",
       "1               7       SPD Smith    Maharashtra Cricket Association Stadium   \n",
       "2              10         CA Lynn     Saurashtra Cricket Association Stadium   \n",
       "3               6      GJ Maxwell                     Holkar Cricket Stadium   \n",
       "4               0       KM Jadhav                      M Chinnaswamy Stadium   \n",
       "\n",
       "          umpire1        umpire2 umpire3  \n",
       "0     AY Dandekar       NJ Llong     NaN  \n",
       "1  A Nand Kishore         S Ravi     NaN  \n",
       "2     Nitin Menon      CK Nandan     NaN  \n",
       "3    AK Chaudhary  C Shamshuddin     NaN  \n",
       "4             NaN            NaN     NaN  "
      ]
     },
     "execution_count": 25,
     "metadata": {},
     "output_type": "execute_result"
    }
   ],
   "source": [
    "datamat.head()"
   ]
  },
  {
   "cell_type": "code",
   "execution_count": 26,
   "id": "82855449",
   "metadata": {
    "execution": {
     "iopub.execute_input": "2021-12-31T10:39:26.843801Z",
     "iopub.status.busy": "2021-12-31T10:39:26.843127Z",
     "iopub.status.idle": "2021-12-31T10:39:26.851975Z",
     "shell.execute_reply": "2021-12-31T10:39:26.851394Z",
     "shell.execute_reply.started": "2021-12-13T11:00:26.947806Z"
    },
    "papermill": {
     "duration": 0.054779,
     "end_time": "2021-12-31T10:39:26.852140",
     "exception": false,
     "start_time": "2021-12-31T10:39:26.797361",
     "status": "completed"
    },
    "tags": []
   },
   "outputs": [],
   "source": [
    "mostteam1winnerruns=datamat.groupby(\"team1\").win_by_runs.sum()\n",
    "mostteam1winnerwicket=datamat.groupby(\"team1\").win_by_wickets.sum()\n",
    "mostteam2winnerruns=datamat.groupby(\"team2\").win_by_runs.sum()\n",
    "mostteamwinnerwicket=datamat.groupby(\"team2\").win_by_wickets.sum()\n"
   ]
  },
  {
   "cell_type": "code",
   "execution_count": 27,
   "id": "f50eaaf6",
   "metadata": {
    "execution": {
     "iopub.execute_input": "2021-12-31T10:39:26.944331Z",
     "iopub.status.busy": "2021-12-31T10:39:26.941610Z",
     "iopub.status.idle": "2021-12-31T10:39:27.240155Z",
     "shell.execute_reply": "2021-12-31T10:39:27.239465Z",
     "shell.execute_reply.started": "2021-12-13T11:07:50.490634Z"
    },
    "papermill": {
     "duration": 0.348738,
     "end_time": "2021-12-31T10:39:27.240308",
     "exception": false,
     "start_time": "2021-12-31T10:39:26.891570",
     "status": "completed"
    },
    "tags": []
   },
   "outputs": [
    {
     "data": {
      "image/png": "[encoded data removed]",
      "text/plain": [
       "<Figure size 864x432 with 1 Axes>"
      ]
     },
     "metadata": {
      "needs_background": "light"
     },
     "output_type": "display_data"
    }
   ],
   "source": [
    "plt.figure(figsize=(12,6))\n",
    "plt.ylabel(\"number of wins\")\n",
    "mostteam1winnerruns.plot(kind=\"bar\", color=\"turquoise\")\n",
    "plt.show()"
   ]
  },
  {
   "cell_type": "code",
   "execution_count": 28,
   "id": "fcfe6ae2",
   "metadata": {
    "execution": {
     "iopub.execute_input": "2021-12-31T10:39:27.330084Z",
     "iopub.status.busy": "2021-12-31T10:39:27.329393Z",
     "iopub.status.idle": "2021-12-31T10:39:27.608402Z",
     "shell.execute_reply": "2021-12-31T10:39:27.607736Z",
     "shell.execute_reply.started": "2021-12-13T11:03:03.646461Z"
    },
    "papermill": {
     "duration": 0.327242,
     "end_time": "2021-12-31T10:39:27.608634",
     "exception": false,
     "start_time": "2021-12-31T10:39:27.281392",
     "status": "completed"
    },
    "tags": []
   },
   "outputs": [
    {
     "data": {
      "image/png": "[encoded data removed]",
      "text/plain": [
       "<Figure size 864x432 with 1 Axes>"
      ]
     },
     "metadata": {
      "needs_background": "light"
     },
     "output_type": "display_data"
    }
   ],
   "source": [
    "plt.figure(figsize=(12,6))\n",
    "plt.ylabel(\"number of wins\")\n",
    "mostteam1winnerwicket.plot(kind=\"bar\", color=\"coral\")\n",
    "plt.show()"
   ]
  },
  {
   "cell_type": "code",
   "execution_count": 29,
   "id": "67b1fcda",
   "metadata": {
    "execution": {
     "iopub.execute_input": "2021-12-31T10:39:27.697973Z",
     "iopub.status.busy": "2021-12-31T10:39:27.697323Z",
     "iopub.status.idle": "2021-12-31T10:39:27.989770Z",
     "shell.execute_reply": "2021-12-31T10:39:27.990369Z",
     "shell.execute_reply.started": "2021-12-13T11:02:41.101562Z"
    },
    "papermill": {
     "duration": 0.339073,
     "end_time": "2021-12-31T10:39:27.990584",
     "exception": false,
     "start_time": "2021-12-31T10:39:27.651511",
     "status": "completed"
    },
    "tags": []
   },
   "outputs": [
    {
     "data": {
      "image/png": "[encoded data removed]",
      "text/plain": [
       "<Figure size 864x432 with 1 Axes>"
      ]
     },
     "metadata": {
      "needs_background": "light"
     },
     "output_type": "display_data"
    }
   ],
   "source": [
    "plt.figure(figsize=(12,6))\n",
    "plt.ylabel(\"number of wins\")\n",
    "mostteam2winnerruns.plot(kind=\"bar\", color=\"indianred\")\n",
    "plt.show()\n"
   ]
  },
  {
   "cell_type": "code",
   "execution_count": 30,
   "id": "8f37bf48",
   "metadata": {
    "execution": {
     "iopub.execute_input": "2021-12-31T10:39:28.082820Z",
     "iopub.status.busy": "2021-12-31T10:39:28.081845Z",
     "iopub.status.idle": "2021-12-31T10:39:28.372412Z",
     "shell.execute_reply": "2021-12-31T10:39:28.371639Z",
     "shell.execute_reply.started": "2021-12-13T11:02:56.659662Z"
    },
    "papermill": {
     "duration": 0.338542,
     "end_time": "2021-12-31T10:39:28.372593",
     "exception": false,
     "start_time": "2021-12-31T10:39:28.034051",
     "status": "completed"
    },
    "tags": []
   },
   "outputs": [
    {
     "data": {
      "image/png": "[encoded data removed]",
      "text/plain": [
       "<Figure size 864x432 with 1 Axes>"
      ]
     },
     "metadata": {
      "needs_background": "light"
     },
     "output_type": "display_data"
    }
   ],
   "source": [
    "plt.figure(figsize=(12,6))\n",
    "plt.ylabel(\"number of wins\")\n",
    "mostteamwinnerwicket.plot(kind=\"bar\", color=\"salmon\")\n",
    "plt.show()"
   ]
  },
  {
   "cell_type": "code",
   "execution_count": 31,
   "id": "c5e42141",
   "metadata": {
    "execution": {
     "iopub.execute_input": "2021-12-31T10:39:28.494765Z",
     "iopub.status.busy": "2021-12-31T10:39:28.489946Z",
     "iopub.status.idle": "2021-12-31T10:39:28.776218Z",
     "shell.execute_reply": "2021-12-31T10:39:28.775435Z",
     "shell.execute_reply.started": "2021-12-13T11:19:35.334278Z"
    },
    "papermill": {
     "duration": 0.357088,
     "end_time": "2021-12-31T10:39:28.776392",
     "exception": false,
     "start_time": "2021-12-31T10:39:28.419304",
     "status": "completed"
    },
    "tags": []
   },
   "outputs": [
    {
     "data": {
      "image/png": "[encoded data removed]",
      "text/plain": [
       "<Figure size 864x432 with 1 Axes>"
      ]
     },
     "metadata": {
      "needs_background": "light"
     },
     "output_type": "display_data"
    }
   ],
   "source": [
    "plt.figure(figsize=(12,6))\n",
    "y=datamat.winner.value_counts()\n",
    "sns.barplot(x=y.index, y=y, palette=\"bright\")\n",
    "plt.xticks(rotation=45)\n",
    "plt.show()\n"
   ]
  },
  {
   "cell_type": "code",
   "execution_count": 32,
   "id": "c32d69b8",
   "metadata": {
    "execution": {
     "iopub.execute_input": "2021-12-31T10:39:28.878078Z",
     "iopub.status.busy": "2021-12-31T10:39:28.876359Z",
     "iopub.status.idle": "2021-12-31T10:39:28.882692Z",
     "shell.execute_reply": "2021-12-31T10:39:28.882022Z",
     "shell.execute_reply.started": "2021-12-13T11:24:58.661761Z"
    },
    "papermill": {
     "duration": 0.059726,
     "end_time": "2021-12-31T10:39:28.882856",
     "exception": false,
     "start_time": "2021-12-31T10:39:28.823130",
     "status": "completed"
    },
    "tags": []
   },
   "outputs": [
    {
     "name": "stdout",
     "output_type": "stream",
     "text": [
      "CH Gayle\n"
     ]
    }
   ],
   "source": [
    "topplayers=datamat.player_of_match.value_counts()\n",
    "print(topplayers.idxmax())"
   ]
  },
  {
   "cell_type": "code",
   "execution_count": 33,
   "id": "86e1be12",
   "metadata": {
    "execution": {
     "iopub.execute_input": "2021-12-31T10:39:29.006147Z",
     "iopub.status.busy": "2021-12-31T10:39:29.004705Z",
     "iopub.status.idle": "2021-12-31T10:39:29.266148Z",
     "shell.execute_reply": "2021-12-31T10:39:29.265278Z",
     "shell.execute_reply.started": "2021-12-13T11:33:30.262761Z"
    },
    "papermill": {
     "duration": 0.337589,
     "end_time": "2021-12-31T10:39:29.266306",
     "exception": false,
     "start_time": "2021-12-31T10:39:28.928717",
     "status": "completed"
    },
    "tags": []
   },
   "outputs": [
    {
     "data": {
      "image/png": "[encoded data removed]",
      "text/plain": [
       "<Figure size 1008x576 with 1 Axes>"
      ]
     },
     "metadata": {
      "needs_background": "light"
     },
     "output_type": "display_data"
    }
   ],
   "source": [
    "plt.figure(figsize=(14,8))\n",
    "topplayers=datamat.player_of_match.value_counts()[:12]\n",
    "sns.barplot(x = topplayers.index, y = topplayers, orient='v', palette=\"rocket\")\n",
    "plt.xticks(rotation=45)\n",
    "plt.show()"
   ]
  },
  {
   "cell_type": "code",
   "execution_count": 34,
   "id": "5c2d0594",
   "metadata": {
    "execution": {
     "iopub.execute_input": "2021-12-31T10:39:29.400141Z",
     "iopub.status.busy": "2021-12-31T10:39:29.386781Z",
     "iopub.status.idle": "2021-12-31T10:39:30.142041Z",
     "shell.execute_reply": "2021-12-31T10:39:30.142570Z",
     "shell.execute_reply.started": "2021-12-13T11:37:10.817243Z"
    },
    "papermill": {
     "duration": 0.829415,
     "end_time": "2021-12-31T10:39:30.142752",
     "exception": false,
     "start_time": "2021-12-31T10:39:29.313337",
     "status": "completed"
    },
    "tags": []
   },
   "outputs": [
    {
     "data": {
      "image/png": "[encoded data removed]",
      "text/plain": [
       "<Figure size 864x432 with 1 Axes>"
      ]
     },
     "metadata": {
      "needs_background": "light"
     },
     "output_type": "display_data"
    }
   ],
   "source": [
    "plt.figure(figsize=(12,6))\n",
    "sns.countplot(x='venue', data=datamat)\n",
    "plt.xticks(rotation='vertical')\n",
    "plt.show()"
   ]
  },
  {
   "cell_type": "code",
   "execution_count": 35,
   "id": "99172549",
   "metadata": {
    "execution": {
     "iopub.execute_input": "2021-12-31T10:39:30.291280Z",
     "iopub.status.busy": "2021-12-31T10:39:30.252468Z",
     "iopub.status.idle": "2021-12-31T10:39:30.862579Z",
     "shell.execute_reply": "2021-12-31T10:39:30.863092Z",
     "shell.execute_reply.started": "2021-12-13T11:39:04.853196Z"
    },
    "papermill": {
     "duration": 0.670529,
     "end_time": "2021-12-31T10:39:30.863261",
     "exception": false,
     "start_time": "2021-12-31T10:39:30.192732",
     "status": "completed"
    },
    "tags": []
   },
   "outputs": [
    {
     "data": {
      "image/png": "[encoded data removed]",
      "text/plain": [
       "<Figure size 864x432 with 1 Axes>"
      ]
     },
     "metadata": {
      "needs_background": "light"
     },
     "output_type": "display_data"
    }
   ],
   "source": [
    "plt.figure(figsize=(12,6))\n",
    "sns.countplot(x='venue', data=datamat)\n",
    "plt.xticks(rotation='vertical')\n",
    "plt.ylabel(\"number of wins per team\")\n",
    "plt.show()"
   ]
  },
  {
   "cell_type": "code",
   "execution_count": null,
   "id": "a1eae0e8",
   "metadata": {
    "papermill": {
     "duration": 0.052189,
     "end_time": "2021-12-31T10:39:30.967968",
     "exception": false,
     "start_time": "2021-12-31T10:39:30.915779",
     "status": "completed"
    },
    "tags": []
   },
   "outputs": [],
   "source": []
  }
 ],
 "metadata": {
  "kernelspec": {
   "display_name": "Python 3",
   "language": "python",
   "name": "python3"
  },
  "language_info": {
   "codemirror_mode": {
    "name": "ipython",
    "version": 3
   },
   "file_extension": ".py",
   "mimetype": "text/x-python",
   "name": "python",
   "nbconvert_exporter": "python",
   "pygments_lexer": "ipython3",
   "version": "3.7.12"
  },
  "papermill": {
   "default_parameters": {},
   "duration": 19.879224,
   "end_time": "2021-12-31T10:39:31.732985",
   "environment_variables": {},
   "exception": null,
   "input_path": "__notebook__.ipynb",
   "output_path": "__notebook__.ipynb",
   "parameters": {},
   "start_time": "2021-12-31T10:39:11.853761",
   "version": "2.3.3"
  }
 },
 "nbformat": 4,
 "nbformat_minor": 5
}
